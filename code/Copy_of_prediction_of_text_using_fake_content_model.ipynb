{
  "nbformat": 4,
  "nbformat_minor": 0,
  "metadata": {
    "colab": {
      "provenance": []
    },
    "kernelspec": {
      "name": "python3",
      "display_name": "Python 3"
    },
    "language_info": {
      "name": "python"
    }
  },
  "cells": [
    {
      "cell_type": "code",
      "execution_count": null,
      "metadata": {
        "id": "ZCNDbqyydFEX"
      },
      "outputs": [],
      "source": [
        "import pickle\n",
        "from tensorflow.keras.models import load_model\n",
        "from tensorflow.keras.preprocessing.text import Tokenizer\n",
        "from tensorflow.keras.preprocessing.sequence import pad_sequences\n",
        "\n",
        "max_features = 10000\n",
        "max_len = 250\n",
        "\n",
        "model = load_model('/content/drive/MyDrive/Fake_content_model.hdf5')\n",
        "weights = load_model('/content/drive/MyDrive/Fake_content_model.hdf5').get_weights()\n",
        "model.set_weights(weights)\n",
        "\n",
        "tokenizer = Tokenizer(max_features)\n",
        "\n",
        "# load the saved tokenizer\n",
        "with open('/content/drive/MyDrive/tokenizer.pkl', 'rb') as f:\n",
        "    tokenizer = pickle.load(f)\n",
        "\n",
        "tokenized_sentences = tokenizer.texts_to_sequences([text])   \n",
        "\n",
        "train_padding = pad_sequences(tokenized_sentences, max_len)\n",
        "\n",
        "prediction = model.predict(train_padding)\n",
        "\n",
        "# Print the prediction\n",
        "if prediction > 0.5:\n",
        "    print(\"The sentence is classified as fake.\")\n",
        "else:\n",
        "    print(\"The sentence is classified as real.\")"
      ]
    }
  ]
}