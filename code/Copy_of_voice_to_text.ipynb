{
  "nbformat": 4,
  "nbformat_minor": 0,
  "metadata": {
    "colab": {
      "provenance": []
    },
    "kernelspec": {
      "name": "python3",
      "display_name": "Python 3"
    },
    "language_info": {
      "name": "python"
    }
  },
  "cells": [
    {
      "cell_type": "code",
      "execution_count": null,
      "metadata": {
        "colab": {
          "base_uri": "https://localhost:8080/"
        },
        "id": "CbXl-YcyHhAV",
        "outputId": "85745a29-724e-4dd1-c44e-008474e4945c"
      },
      "outputs": [
        {
          "output_type": "stream",
          "name": "stdout",
          "text": [
            "Recording (2) (1).wav\n",
            "<speech_recognition.AudioFile object at 0x7f9ab823ed10>\n",
            "<speech_recognition.AudioFile object at 0x7f9ab823ed10>\n"
          ]
        }
      ],
      "source": [
        "import speech_recognition as sr\n",
        "\n",
        "def listen(audio):\n",
        "  r = sr.Recognizer()\n",
        "  audio_file = sr.AudioFile(audio)\n",
        "  with audio_file as source:\n",
        "    audio = r.record(source)\n",
        "    try:\n",
        "        text = r.recognize_google(audio, language='ur')\n",
        "        return text\n",
        "    except:\n",
        "        return \"Sorry could not recognize what you said\"\n",
        "\n",
        "\n",
        "text= listen(\"Recording (2) (1).wav\")        "
      ]
    },
    {
      "cell_type": "code",
      "source": [
        "text"
      ],
      "metadata": {
        "colab": {
          "base_uri": "https://localhost:8080/",
          "height": 35
        },
        "id": "zcPFmXGwPJZP",
        "outputId": "cb65a042-6ed1-46ca-ea20-ac91b4745355"
      },
      "execution_count": null,
      "outputs": [
        {
          "output_type": "execute_result",
          "data": {
            "text/plain": [
              "'میں نہیں چاہتا کہ تمہیں کوئی نقصان ہو'"
            ],
            "application/vnd.google.colaboratory.intrinsic+json": {
              "type": "string"
            }
          },
          "metadata": {},
          "execution_count": 8
        }
      ]
    }
  ]
}